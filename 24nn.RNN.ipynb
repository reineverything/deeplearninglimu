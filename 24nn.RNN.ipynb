{
 "cells": [
  {
   "cell_type": "code",
   "execution_count": 1,
   "metadata": {
    "collapsed": true,
    "ExecuteTime": {
     "end_time": "2023-06-13T07:19:04.091904100Z",
     "start_time": "2023-06-13T07:19:01.711282300Z"
    }
   },
   "outputs": [],
   "source": [
    "from torch import nn"
   ]
  },
  {
   "cell_type": "code",
   "execution_count": 2,
   "outputs": [
    {
     "data": {
      "text/plain": "odict_keys(['weight_ih_l0', 'weight_hh_l0', 'bias_ih_l0', 'bias_hh_l0'])"
     },
     "execution_count": 2,
     "metadata": {},
     "output_type": "execute_result"
    }
   ],
   "source": [
    "rnn=nn.RNN(100,10)  # 每个词向量特征维度，隐藏层维度\n",
    "rnn._parameters.keys()\n",
    "# l0表示现在只有一层，rnn可以有多层"
   ],
   "metadata": {
    "collapsed": false,
    "ExecuteTime": {
     "end_time": "2023-06-13T07:19:04.149727300Z",
     "start_time": "2023-06-13T07:19:04.091904100Z"
    }
   }
  },
  {
   "cell_type": "code",
   "execution_count": 3,
   "outputs": [
    {
     "data": {
      "text/plain": "torch.Size([10, 100])"
     },
     "execution_count": 3,
     "metadata": {},
     "output_type": "execute_result"
    }
   ],
   "source": [
    "rnn.weight_ih_l0.shape"
   ],
   "metadata": {
    "collapsed": false,
    "ExecuteTime": {
     "end_time": "2023-06-13T07:19:04.208345600Z",
     "start_time": "2023-06-13T07:19:04.121970Z"
    }
   }
  },
  {
   "cell_type": "code",
   "execution_count": 4,
   "outputs": [
    {
     "data": {
      "text/plain": "torch.Size([10, 10])"
     },
     "execution_count": 4,
     "metadata": {},
     "output_type": "execute_result"
    }
   ],
   "source": [
    "rnn.weight_hh_l0.shape"
   ],
   "metadata": {
    "collapsed": false,
    "ExecuteTime": {
     "end_time": "2023-06-13T07:19:04.213853100Z",
     "start_time": "2023-06-13T07:19:04.137968700Z"
    }
   }
  },
  {
   "cell_type": "code",
   "execution_count": 5,
   "outputs": [
    {
     "data": {
      "text/plain": "torch.Size([10])"
     },
     "execution_count": 5,
     "metadata": {},
     "output_type": "execute_result"
    }
   ],
   "source": [
    "rnn.bias_ih_l0.shape"
   ],
   "metadata": {
    "collapsed": false,
    "ExecuteTime": {
     "end_time": "2023-06-13T07:19:04.213853100Z",
     "start_time": "2023-06-13T07:19:04.151727Z"
    }
   }
  },
  {
   "cell_type": "code",
   "execution_count": 6,
   "outputs": [
    {
     "data": {
      "text/plain": "torch.Size([10])"
     },
     "execution_count": 6,
     "metadata": {},
     "output_type": "execute_result"
    }
   ],
   "source": [
    "rnn.bias_hh_l0.shape"
   ],
   "metadata": {
    "collapsed": false,
    "ExecuteTime": {
     "end_time": "2023-06-13T07:19:04.387502400Z",
     "start_time": "2023-06-13T07:19:04.169661700Z"
    }
   }
  },
  {
   "cell_type": "markdown",
   "source": [
    "# 整理以下\n",
    "输入input形状应该是time(len)*batch*feature，其中time，batch不受网络形状约束，假设（5，2，100），time其实不作为计算输入，而是循环次数，实际计算维度（2，100）\n",
    "W_ih形状hidden*feature，（10，100）\n",
    "W_hh形状hidden*hidden，（10，10）\n",
    "h-存放历史信息，在0时刻应该初始化，后来的形状是batch*hidden，（2，10）\n",
    "首先更新h，h=X@W_ih+h@W_hh=(2,100)(100,10)+(2,10)(10,10)=(2,10)"
   ],
   "metadata": {
    "collapsed": false
   }
  },
  {
   "cell_type": "code",
   "execution_count": 7,
   "outputs": [
    {
     "data": {
      "text/plain": "(torch.Size([10, 3, 20]), torch.Size([1, 3, 20]))"
     },
     "execution_count": 7,
     "metadata": {},
     "output_type": "execute_result"
    }
   ],
   "source": [
    "rnn1=nn.RNN(input_size=100,hidden_size=20,num_layers=1)\n",
    "import torch\n",
    "x=torch.rand(10,3,100)\n",
    "out,h=rnn1(x,torch.zeros(1,3,20))  # 每次执行时，都要初始化隐藏层。输出结果h最后时刻隐藏层信息，out每一时刻隐藏层信息，h.shape-(1,3,20),out.shape-(10,3,20)。一层就设置1，n层设置n\n",
    "out.shape,h.shape"
   ],
   "metadata": {
    "collapsed": false,
    "ExecuteTime": {
     "end_time": "2023-06-13T07:19:04.621956100Z",
     "start_time": "2023-06-13T07:19:04.182085800Z"
    }
   }
  },
  {
   "cell_type": "code",
   "execution_count": 8,
   "outputs": [],
   "source": [
    "# 实验两层rnn\n",
    "rnn2=nn.RNN(input_size=100,hidden_size=10,num_layers=2)"
   ],
   "metadata": {
    "collapsed": false,
    "ExecuteTime": {
     "end_time": "2023-06-13T07:19:04.621956100Z",
     "start_time": "2023-06-13T07:19:04.233959100Z"
    }
   }
  },
  {
   "cell_type": "code",
   "execution_count": 9,
   "outputs": [
    {
     "data": {
      "text/plain": "odict_keys(['weight_ih_l0', 'weight_hh_l0', 'bias_ih_l0', 'bias_hh_l0', 'weight_ih_l1', 'weight_hh_l1', 'bias_ih_l1', 'bias_hh_l1'])"
     },
     "execution_count": 9,
     "metadata": {},
     "output_type": "execute_result"
    }
   ],
   "source": [
    "rnn2._parameters.keys()"
   ],
   "metadata": {
    "collapsed": false,
    "ExecuteTime": {
     "end_time": "2023-06-13T07:19:04.621956100Z",
     "start_time": "2023-06-13T07:19:04.250062700Z"
    }
   }
  },
  {
   "cell_type": "code",
   "execution_count": 10,
   "outputs": [
    {
     "data": {
      "text/plain": "(torch.Size([10, 100]),\n torch.Size([10, 10]),\n torch.Size([10, 10]),\n torch.Size([10, 10]))"
     },
     "execution_count": 10,
     "metadata": {},
     "output_type": "execute_result"
    }
   ],
   "source": [
    "rnn2.weight_ih_l0.shape,rnn2.weight_hh_l0.shape,rnn2.weight_ih_l1.shape,rnn2.weight_hh_l1.shape\n",
    "# 第二层的输入是第一层的h"
   ],
   "metadata": {
    "collapsed": false,
    "ExecuteTime": {
     "end_time": "2023-06-13T07:19:04.624940400Z",
     "start_time": "2023-06-13T07:19:04.261310100Z"
    }
   }
  },
  {
   "cell_type": "code",
   "execution_count": 11,
   "outputs": [
    {
     "name": "stdout",
     "output_type": "stream",
     "text": [
      "RNN(100, 20, num_layers=4)\n"
     ]
    }
   ],
   "source": [
    "rnn4=nn.RNN(input_size=100,hidden_size=20,num_layers=4)\n",
    "print(rnn4)"
   ],
   "metadata": {
    "collapsed": false,
    "ExecuteTime": {
     "end_time": "2023-06-13T07:19:04.624940400Z",
     "start_time": "2023-06-13T07:19:04.277314100Z"
    }
   }
  },
  {
   "cell_type": "code",
   "execution_count": 12,
   "outputs": [
    {
     "data": {
      "text/plain": "(torch.Size([10, 3, 20]), torch.Size([4, 3, 20]))"
     },
     "execution_count": 12,
     "metadata": {},
     "output_type": "execute_result"
    }
   ],
   "source": [
    "x=torch.rand(10,3,100)\n",
    "out,h=rnn4(x)\n",
    "out.shape,h.shape  # out每个时间维度上，h每层的最后时间维度上"
   ],
   "metadata": {
    "collapsed": false,
    "ExecuteTime": {
     "end_time": "2023-06-13T07:19:04.624940400Z",
     "start_time": "2023-06-13T07:19:04.293226200Z"
    }
   }
  },
  {
   "cell_type": "markdown",
   "source": [],
   "metadata": {
    "collapsed": false
   }
  },
  {
   "cell_type": "code",
   "execution_count": 13,
   "outputs": [
    {
     "data": {
      "text/plain": "torch.Size([3, 20])"
     },
     "execution_count": 13,
     "metadata": {},
     "output_type": "execute_result"
    }
   ],
   "source": [
    "# RNNCell使用\n",
    "# 同RNN来说，对于每个时间步的计算需要手写\n",
    "cell1=nn.RNNCell(100,20)  # feature,hidden\n",
    "h1=torch.zeros(3,20) # batch,hidden  ->(1,3,20)说明只有一层\n",
    "for x_t in x:\n",
    "    h1=cell1(x_t,h1)\n",
    "\n",
    "h1.shape"
   ],
   "metadata": {
    "collapsed": false,
    "ExecuteTime": {
     "end_time": "2023-06-13T07:19:04.624940400Z",
     "start_time": "2023-06-13T07:19:04.308860Z"
    }
   }
  },
  {
   "cell_type": "code",
   "execution_count": 14,
   "outputs": [
    {
     "data": {
      "text/plain": "torch.Size([10, 3, 100])"
     },
     "execution_count": 14,
     "metadata": {},
     "output_type": "execute_result"
    }
   ],
   "source": [
    "x.shape"
   ],
   "metadata": {
    "collapsed": false,
    "ExecuteTime": {
     "end_time": "2023-06-13T07:19:04.624940400Z",
     "start_time": "2023-06-13T07:19:04.324484700Z"
    }
   }
  },
  {
   "cell_type": "code",
   "execution_count": 15,
   "outputs": [
    {
     "data": {
      "text/plain": "torch.Size([3, 20])"
     },
     "execution_count": 15,
     "metadata": {},
     "output_type": "execute_result"
    }
   ],
   "source": [
    "# 两层RNNCell\n",
    "cell1=nn.RNNCell(100,30)\n",
    "ce112=nn.RNNCell(30,20)\n",
    "h1=torch.zeros(3,30)  # 因为是一层，默认不用写成（1，3，20）\n",
    "h2=torch.zeros(3,20)\n",
    "for x_t in x:\n",
    "    h1=cell1(x_t,h1)  # 3*30\n",
    "    h2=ce112(h1,h2)  # 3*20\n",
    "h2.shape"
   ],
   "metadata": {
    "collapsed": false,
    "ExecuteTime": {
     "end_time": "2023-06-13T07:19:04.644771500Z",
     "start_time": "2023-06-13T07:19:04.340114Z"
    }
   }
  },
  {
   "cell_type": "code",
   "execution_count": 16,
   "outputs": [],
   "source": [
    "# RNN预测正弦曲线\n",
    "import numpy as np\n",
    "start=np.random.randint(3,size=1)[0] # 生成大小为1，值介于0，3之间的数组，并取第一个数\n",
    "time_steps=np.linspace(start,start+10,50)  # 在start和start+10之间均匀生成50个点，作为训练的样本"
   ],
   "metadata": {
    "collapsed": false,
    "ExecuteTime": {
     "end_time": "2023-06-13T07:19:04.644771500Z",
     "start_time": "2023-06-13T07:19:04.358277100Z"
    }
   }
  },
  {
   "cell_type": "code",
   "execution_count": 17,
   "outputs": [
    {
     "name": "stdout",
     "output_type": "stream",
     "text": [
      "(50,)\n"
     ]
    },
    {
     "data": {
      "text/plain": "(50, 1)"
     },
     "execution_count": 17,
     "metadata": {},
     "output_type": "execute_result"
    }
   ],
   "source": [
    "# 根据上文的训练样本，得到y\n",
    "data=np.sin(time_steps)\n",
    "print(data.shape)\n",
    "data=data.reshape(50,1)\n",
    "data.shape"
   ],
   "metadata": {
    "collapsed": false,
    "ExecuteTime": {
     "end_time": "2023-06-13T07:19:04.644771500Z",
     "start_time": "2023-06-13T07:19:04.375994500Z"
    }
   }
  },
  {
   "cell_type": "code",
   "execution_count": 18,
   "outputs": [
    {
     "data": {
      "text/plain": "(torch.Size([1, 49, 1]), torch.Size([1, 49, 1]))"
     },
     "execution_count": 18,
     "metadata": {},
     "output_type": "execute_result"
    }
   ],
   "source": [
    "# 制作训练集\n",
    "# 训练集50个样本，下标从0-48，标签从1-49\n",
    "x=torch.tensor(data[:-1]).float().view(1,49,1)\n",
    "y=torch.tensor(data[1:]).float().view(1,49,1)\n",
    "x.shape,y.shape  # batch,time,feature(因为是预测具体值，所以直接表示即可)"
   ],
   "metadata": {
    "collapsed": false,
    "ExecuteTime": {
     "end_time": "2023-06-13T07:19:04.644771500Z",
     "start_time": "2023-06-13T07:19:04.391594100Z"
    }
   }
  },
  {
   "cell_type": "code",
   "execution_count": 19,
   "outputs": [],
   "source": [
    "class net(nn.Module):\n",
    "    def __init__(self,):\n",
    "        super(net,self).__init__()\n",
    "        self.rnn=nn.RNN(input_size=input_size,\n",
    "                        hidden_size=hidden_size,\n",
    "                        num_layers=1,\n",
    "                        batch_first=True\n",
    "                        )\n",
    "        self.linear=nn.Linear(hidden_size,output_size)\n",
    "\n",
    "    def forward(self,x,hidden_prev):\n",
    "        out,hidden_prev=self.rnn(x,hidden_prev)\n",
    "        out=out.view(-1,hidden_size)\n",
    "        out=self.linear(out)\n",
    "        out=out.unsqueeze(dim=0)\n",
    "        return out,hidden_prev"
   ],
   "metadata": {
    "collapsed": false,
    "ExecuteTime": {
     "end_time": "2023-06-13T07:19:04.881172300Z",
     "start_time": "2023-06-13T07:19:04.403990900Z"
    }
   }
  }
 ],
 "metadata": {
  "kernelspec": {
   "display_name": "Python 3",
   "language": "python",
   "name": "python3"
  },
  "language_info": {
   "codemirror_mode": {
    "name": "ipython",
    "version": 2
   },
   "file_extension": ".py",
   "mimetype": "text/x-python",
   "name": "python",
   "nbconvert_exporter": "python",
   "pygments_lexer": "ipython2",
   "version": "2.7.6"
  }
 },
 "nbformat": 4,
 "nbformat_minor": 0
}
